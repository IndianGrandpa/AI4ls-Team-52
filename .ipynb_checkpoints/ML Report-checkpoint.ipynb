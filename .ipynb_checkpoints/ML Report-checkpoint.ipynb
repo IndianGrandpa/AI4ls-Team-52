{
 "cells": [
  {
   "cell_type": "code",
   "execution_count": 273,
   "id": "da427896",
   "metadata": {},
   "outputs": [],
   "source": [
    "import pandas as pd\n",
    "import numpy as np"
   ]
  },
  {
   "cell_type": "code",
   "execution_count": 274,
   "id": "dd0c8d21",
   "metadata": {},
   "outputs": [],
   "source": [
    "df=pd.read_csv(\"data/merged_soil_intersects.csv\")"
   ]
  },
  {
   "cell_type": "code",
   "execution_count": 275,
   "id": "3e10483a",
   "metadata": {},
   "outputs": [
    {
     "data": {
      "text/plain": [
       "point_id                    0\n",
       "ph_2015                     0\n",
       "ec_2015                     0\n",
       "oc_2015                     0\n",
       "caco3_2015                  0\n",
       "p_2015                      0\n",
       "n_2015                      0\n",
       "k_2015                      0\n",
       "elevation_2015              0\n",
       "lc1_2015                    0\n",
       "lu1_2015                    0\n",
       "ph_2018                     0\n",
       "ec_2018                     5\n",
       "oc_2018                     0\n",
       "caco3_2018               5841\n",
       "p_2018                      6\n",
       "n_2018                      0\n",
       "k_2018                      0\n",
       "elevation_2018              0\n",
       "lc1_2018                    0\n",
       "lu1_2018                    0\n",
       "bd_0_10                  8196\n",
       "bd_10_20                 8421\n",
       "survey_erosion_signs    12827\n",
       "ph_2009                     0\n",
       "oc_2009                     0\n",
       "caco3_2009                  0\n",
       "p_2009                      0\n",
       "n_2009                      0\n",
       "k_2009                      0\n",
       "elevation_2009              0\n",
       "lc1_2009                    0\n",
       "lu1_2009                    0\n",
       "dtype: int64"
      ]
     },
     "execution_count": 275,
     "metadata": {},
     "output_type": "execute_result"
    }
   ],
   "source": [
    "df.isna().sum()"
   ]
  },
  {
   "cell_type": "code",
   "execution_count": 276,
   "id": "b9266f87",
   "metadata": {},
   "outputs": [
    {
     "data": {
      "text/plain": [
       "16        38\n",
       "19         5\n",
       "31        58\n",
       "37        11\n",
       "43       117\n",
       "        ... \n",
       "13270      6\n",
       "13276      1\n",
       "13277    117\n",
       "13279     11\n",
       "13280      5\n",
       "Name: caco3_2018, Length: 7442, dtype: object"
      ]
     },
     "execution_count": 276,
     "metadata": {},
     "output_type": "execute_result"
    }
   ],
   "source": [
    "df[\"caco3_2018\"].dropna()"
   ]
  },
  {
   "cell_type": "code",
   "execution_count": 277,
   "id": "02428619",
   "metadata": {},
   "outputs": [],
   "source": [
    "array=df[\"caco3_2018\"].unique()"
   ]
  },
  {
   "cell_type": "code",
   "execution_count": 278,
   "id": "c1c4d776",
   "metadata": {},
   "outputs": [],
   "source": [
    "no_df=df.replace('<  LOD',np.nan)"
   ]
  },
  {
   "cell_type": "code",
   "execution_count": 279,
   "id": "959dd53b",
   "metadata": {},
   "outputs": [],
   "source": [
    "def convert_to_number(string):\n",
    "\n",
    "   \n",
    "    try:\n",
    "        return float(string)\n",
    "    except:\n",
    "        print(string)\n",
    "        return string\n",
    "    \n",
    "    "
   ]
  },
  {
   "cell_type": "code",
   "execution_count": 280,
   "id": "040d4ada",
   "metadata": {},
   "outputs": [
    {
     "data": {
      "text/plain": [
       "94.0203820799139"
      ]
     },
     "execution_count": 280,
     "metadata": {},
     "output_type": "execute_result"
    }
   ],
   "source": [
    "no_df[\"caco3_2018\"].dropna().apply(lambda x: convert_to_number(x)).mean()"
   ]
  },
  {
   "cell_type": "code",
   "execution_count": 281,
   "id": "4d65ab78",
   "metadata": {},
   "outputs": [
    {
     "name": "stderr",
     "output_type": "stream",
     "text": [
      "C:\\Users\\vibu\\AppData\\Local\\Temp\\ipykernel_9252\\293234431.py:1: SettingWithCopyWarning: \n",
      "A value is trying to be set on a copy of a slice from a DataFrame\n",
      "\n",
      "See the caveats in the documentation: https://pandas.pydata.org/pandas-docs/stable/user_guide/indexing.html#returning-a-view-versus-a-copy\n",
      "  df[\"caco3_2018\"][df[\"caco3_2018\"].isna()]=no_df[\"caco3_2018\"].dropna().apply(lambda x: convert_to_number(x)).mean()\n"
     ]
    }
   ],
   "source": [
    "df[\"caco3_2018\"][df[\"caco3_2018\"].isna()]=no_df[\"caco3_2018\"].dropna().apply(lambda x: convert_to_number(x)).mean()"
   ]
  },
  {
   "cell_type": "code",
   "execution_count": 282,
   "id": "54c0fec7",
   "metadata": {},
   "outputs": [
    {
     "name": "stderr",
     "output_type": "stream",
     "text": [
      "C:\\Users\\vibu\\AppData\\Local\\Temp\\ipykernel_9252\\1927307765.py:1: SettingWithCopyWarning: \n",
      "A value is trying to be set on a copy of a slice from a DataFrame\n",
      "\n",
      "See the caveats in the documentation: https://pandas.pydata.org/pandas-docs/stable/user_guide/indexing.html#returning-a-view-versus-a-copy\n",
      "  df[\"ec_2018\"][df[\"ec_2018\"].isna()]=no_df[\"ec_2018\"].dropna().apply(lambda x: convert_to_number(x)).mean()\n"
     ]
    }
   ],
   "source": [
    "df[\"ec_2018\"][df[\"ec_2018\"].isna()]=no_df[\"ec_2018\"].dropna().apply(lambda x: convert_to_number(x)).mean()"
   ]
  },
  {
   "cell_type": "code",
   "execution_count": 283,
   "id": "925cdc91",
   "metadata": {},
   "outputs": [
    {
     "data": {
      "text/plain": [
       "<bound method Series.unique of 0           15\n",
       "1           13\n",
       "2         29.9\n",
       "3         51.3\n",
       "4         17.8\n",
       "         ...  \n",
       "13278     19.7\n",
       "13279       24\n",
       "13280       10\n",
       "13281    < LOD\n",
       "13282     13.9\n",
       "Name: p_2018, Length: 13283, dtype: object>"
      ]
     },
     "execution_count": 283,
     "metadata": {},
     "output_type": "execute_result"
    }
   ],
   "source": [
    "df[\"p_2018\"].unique"
   ]
  },
  {
   "cell_type": "code",
   "execution_count": 284,
   "id": "388e5308",
   "metadata": {},
   "outputs": [],
   "source": [
    "no_df=df.replace('< LOD',np.nan)"
   ]
  },
  {
   "cell_type": "code",
   "execution_count": 285,
   "id": "fa4b8f4a",
   "metadata": {
    "scrolled": true
   },
   "outputs": [
    {
     "name": "stderr",
     "output_type": "stream",
     "text": [
      "C:\\Users\\vibu\\AppData\\Local\\Temp\\ipykernel_9252\\1019213591.py:1: SettingWithCopyWarning: \n",
      "A value is trying to be set on a copy of a slice from a DataFrame\n",
      "\n",
      "See the caveats in the documentation: https://pandas.pydata.org/pandas-docs/stable/user_guide/indexing.html#returning-a-view-versus-a-copy\n",
      "  df[\"p_2018\"][df[\"p_2018\"].isna()]=no_df[\"p_2018\"].dropna().apply(lambda x: convert_to_number(x)).mean()\n"
     ]
    }
   ],
   "source": [
    "df[\"p_2018\"][df[\"p_2018\"].isna()]=no_df[\"p_2018\"].dropna().apply(lambda x: convert_to_number(x)).mean()"
   ]
  },
  {
   "cell_type": "code",
   "execution_count": 286,
   "id": "24f361eb",
   "metadata": {},
   "outputs": [
    {
     "name": "stderr",
     "output_type": "stream",
     "text": [
      "C:\\Users\\vibu\\AppData\\Local\\Temp\\ipykernel_9252\\2533959869.py:1: SettingWithCopyWarning: \n",
      "A value is trying to be set on a copy of a slice from a DataFrame\n",
      "\n",
      "See the caveats in the documentation: https://pandas.pydata.org/pandas-docs/stable/user_guide/indexing.html#returning-a-view-versus-a-copy\n",
      "  df[\"bd_0_10\"][df[\"bd_0_10\"].isna()]=no_df[\"bd_0_10\"].dropna().apply(lambda x: convert_to_number(x)).mean()\n"
     ]
    }
   ],
   "source": [
    "df[\"bd_0_10\"][df[\"bd_0_10\"].isna()]=no_df[\"bd_0_10\"].dropna().apply(lambda x: convert_to_number(x)).mean()"
   ]
  },
  {
   "cell_type": "code",
   "execution_count": 287,
   "id": "80bed692",
   "metadata": {},
   "outputs": [
    {
     "name": "stderr",
     "output_type": "stream",
     "text": [
      "C:\\Users\\vibu\\AppData\\Local\\Temp\\ipykernel_9252\\3825662169.py:1: SettingWithCopyWarning: \n",
      "A value is trying to be set on a copy of a slice from a DataFrame\n",
      "\n",
      "See the caveats in the documentation: https://pandas.pydata.org/pandas-docs/stable/user_guide/indexing.html#returning-a-view-versus-a-copy\n",
      "  df[\"bd_10_20\"][df[\"bd_10_20\"].isna()]=no_df[\"bd_10_20\"].dropna().apply(lambda x: convert_to_number(x)).mean()\n"
     ]
    }
   ],
   "source": [
    "df[\"bd_10_20\"][df[\"bd_10_20\"].isna()]=no_df[\"bd_10_20\"].dropna().apply(lambda x: convert_to_number(x)).mean()"
   ]
  },
  {
   "cell_type": "code",
   "execution_count": 288,
   "id": "b98bd66e",
   "metadata": {},
   "outputs": [
    {
     "data": {
      "text/plain": [
       "point_id                    0\n",
       "ph_2015                     0\n",
       "ec_2015                     0\n",
       "oc_2015                     0\n",
       "caco3_2015                  0\n",
       "p_2015                      0\n",
       "n_2015                      0\n",
       "k_2015                      0\n",
       "elevation_2015              0\n",
       "lc1_2015                    0\n",
       "lu1_2015                    0\n",
       "ph_2018                     0\n",
       "ec_2018                     0\n",
       "oc_2018                     0\n",
       "caco3_2018                  0\n",
       "p_2018                      0\n",
       "n_2018                      0\n",
       "k_2018                      0\n",
       "elevation_2018              0\n",
       "lc1_2018                    0\n",
       "lu1_2018                    0\n",
       "bd_0_10                     0\n",
       "bd_10_20                    0\n",
       "survey_erosion_signs    12827\n",
       "ph_2009                     0\n",
       "oc_2009                     0\n",
       "caco3_2009                  0\n",
       "p_2009                      0\n",
       "n_2009                      0\n",
       "k_2009                      0\n",
       "elevation_2009              0\n",
       "lc1_2009                    0\n",
       "lu1_2009                    0\n",
       "dtype: int64"
      ]
     },
     "execution_count": 288,
     "metadata": {},
     "output_type": "execute_result"
    }
   ],
   "source": [
    "df.isna().sum()"
   ]
  },
  {
   "cell_type": "code",
   "execution_count": 289,
   "id": "a55c10dd",
   "metadata": {},
   "outputs": [],
   "source": [
    "num_col=[col for col in df.columns if df[col].dtypes!=\"O\" ]\n",
    "cat_col=[col for col in df.columns if df[col].dtypes==\"O\" ]"
   ]
  },
  {
   "cell_type": "code",
   "execution_count": 290,
   "id": "63761edc",
   "metadata": {},
   "outputs": [
    {
     "data": {
      "text/html": [
       "<div>\n",
       "<style scoped>\n",
       "    .dataframe tbody tr th:only-of-type {\n",
       "        vertical-align: middle;\n",
       "    }\n",
       "\n",
       "    .dataframe tbody tr th {\n",
       "        vertical-align: top;\n",
       "    }\n",
       "\n",
       "    .dataframe thead th {\n",
       "        text-align: right;\n",
       "    }\n",
       "</style>\n",
       "<table border=\"1\" class=\"dataframe\">\n",
       "  <thead>\n",
       "    <tr style=\"text-align: right;\">\n",
       "      <th></th>\n",
       "      <th>lc1_2015</th>\n",
       "      <th>lu1_2015</th>\n",
       "      <th>oc_2018</th>\n",
       "      <th>caco3_2018</th>\n",
       "      <th>p_2018</th>\n",
       "      <th>n_2018</th>\n",
       "      <th>k_2018</th>\n",
       "      <th>lc1_2018</th>\n",
       "      <th>lu1_2018</th>\n",
       "      <th>lc1_2009</th>\n",
       "      <th>lu1_2009</th>\n",
       "    </tr>\n",
       "  </thead>\n",
       "  <tbody>\n",
       "    <tr>\n",
       "      <th>0</th>\n",
       "      <td>C21</td>\n",
       "      <td>U120</td>\n",
       "      <td>66.1</td>\n",
       "      <td>94.020382</td>\n",
       "      <td>15</td>\n",
       "      <td>4.6</td>\n",
       "      <td>99.8</td>\n",
       "      <td>C21</td>\n",
       "      <td>U120</td>\n",
       "      <td>C20</td>\n",
       "      <td>U120</td>\n",
       "    </tr>\n",
       "    <tr>\n",
       "      <th>1</th>\n",
       "      <td>C22</td>\n",
       "      <td>U120</td>\n",
       "      <td>64</td>\n",
       "      <td>94.020382</td>\n",
       "      <td>13</td>\n",
       "      <td>2.6</td>\n",
       "      <td>44</td>\n",
       "      <td>C22</td>\n",
       "      <td>U120</td>\n",
       "      <td>C20</td>\n",
       "      <td>U361</td>\n",
       "    </tr>\n",
       "    <tr>\n",
       "      <th>2</th>\n",
       "      <td>D20</td>\n",
       "      <td>U420</td>\n",
       "      <td>102.1</td>\n",
       "      <td>94.020382</td>\n",
       "      <td>29.9</td>\n",
       "      <td>8.1</td>\n",
       "      <td>238.7</td>\n",
       "      <td>D20</td>\n",
       "      <td>U111</td>\n",
       "      <td>D20</td>\n",
       "      <td>U111</td>\n",
       "    </tr>\n",
       "    <tr>\n",
       "      <th>3</th>\n",
       "      <td>E20</td>\n",
       "      <td>U120</td>\n",
       "      <td>340.5</td>\n",
       "      <td>94.020382</td>\n",
       "      <td>51.3</td>\n",
       "      <td>28</td>\n",
       "      <td>128.5</td>\n",
       "      <td>E20</td>\n",
       "      <td>U120</td>\n",
       "      <td>E10</td>\n",
       "      <td>U120</td>\n",
       "    </tr>\n",
       "    <tr>\n",
       "      <th>4</th>\n",
       "      <td>D20</td>\n",
       "      <td>U111</td>\n",
       "      <td>147.2</td>\n",
       "      <td>94.020382</td>\n",
       "      <td>17.8</td>\n",
       "      <td>9.3</td>\n",
       "      <td>240.2</td>\n",
       "      <td>D20</td>\n",
       "      <td>U111</td>\n",
       "      <td>E20</td>\n",
       "      <td>U111</td>\n",
       "    </tr>\n",
       "    <tr>\n",
       "      <th>...</th>\n",
       "      <td>...</td>\n",
       "      <td>...</td>\n",
       "      <td>...</td>\n",
       "      <td>...</td>\n",
       "      <td>...</td>\n",
       "      <td>...</td>\n",
       "      <td>...</td>\n",
       "      <td>...</td>\n",
       "      <td>...</td>\n",
       "      <td>...</td>\n",
       "      <td>...</td>\n",
       "    </tr>\n",
       "    <tr>\n",
       "      <th>13278</th>\n",
       "      <td>E20</td>\n",
       "      <td>U111</td>\n",
       "      <td>36.2</td>\n",
       "      <td>94.020382</td>\n",
       "      <td>19.7</td>\n",
       "      <td>4.6</td>\n",
       "      <td>141.4</td>\n",
       "      <td>E20</td>\n",
       "      <td>U111</td>\n",
       "      <td>E20</td>\n",
       "      <td>U111</td>\n",
       "    </tr>\n",
       "    <tr>\n",
       "      <th>13279</th>\n",
       "      <td>E20</td>\n",
       "      <td>U111</td>\n",
       "      <td>62</td>\n",
       "      <td>11</td>\n",
       "      <td>24</td>\n",
       "      <td>7.1</td>\n",
       "      <td>146.1</td>\n",
       "      <td>E20</td>\n",
       "      <td>U111</td>\n",
       "      <td>E20</td>\n",
       "      <td>U111</td>\n",
       "    </tr>\n",
       "    <tr>\n",
       "      <th>13280</th>\n",
       "      <td>E20</td>\n",
       "      <td>U111</td>\n",
       "      <td>52.3</td>\n",
       "      <td>5</td>\n",
       "      <td>10</td>\n",
       "      <td>5.6</td>\n",
       "      <td>96.8</td>\n",
       "      <td>E20</td>\n",
       "      <td>U111</td>\n",
       "      <td>E20</td>\n",
       "      <td>U111</td>\n",
       "    </tr>\n",
       "    <tr>\n",
       "      <th>13281</th>\n",
       "      <td>E20</td>\n",
       "      <td>U111</td>\n",
       "      <td>27.1</td>\n",
       "      <td>94.020382</td>\n",
       "      <td>&lt; LOD</td>\n",
       "      <td>3.4</td>\n",
       "      <td>45.7</td>\n",
       "      <td>E20</td>\n",
       "      <td>U111</td>\n",
       "      <td>E20</td>\n",
       "      <td>U111</td>\n",
       "    </tr>\n",
       "    <tr>\n",
       "      <th>13282</th>\n",
       "      <td>C10</td>\n",
       "      <td>U120</td>\n",
       "      <td>23.1</td>\n",
       "      <td>94.020382</td>\n",
       "      <td>13.9</td>\n",
       "      <td>2.1</td>\n",
       "      <td>185.8</td>\n",
       "      <td>C10</td>\n",
       "      <td>U120</td>\n",
       "      <td>C10</td>\n",
       "      <td>U120</td>\n",
       "    </tr>\n",
       "  </tbody>\n",
       "</table>\n",
       "<p>13283 rows × 11 columns</p>\n",
       "</div>"
      ],
      "text/plain": [
       "      lc1_2015 lu1_2015 oc_2018 caco3_2018 p_2018 n_2018 k_2018 lc1_2018  \\\n",
       "0          C21     U120    66.1  94.020382     15    4.6   99.8      C21   \n",
       "1          C22     U120      64  94.020382     13    2.6     44      C22   \n",
       "2          D20     U420   102.1  94.020382   29.9    8.1  238.7      D20   \n",
       "3          E20     U120   340.5  94.020382   51.3     28  128.5      E20   \n",
       "4          D20     U111   147.2  94.020382   17.8    9.3  240.2      D20   \n",
       "...        ...      ...     ...        ...    ...    ...    ...      ...   \n",
       "13278      E20     U111    36.2  94.020382   19.7    4.6  141.4      E20   \n",
       "13279      E20     U111      62         11     24    7.1  146.1      E20   \n",
       "13280      E20     U111    52.3          5     10    5.6   96.8      E20   \n",
       "13281      E20     U111    27.1  94.020382  < LOD    3.4   45.7      E20   \n",
       "13282      C10     U120    23.1  94.020382   13.9    2.1  185.8      C10   \n",
       "\n",
       "      lu1_2018 lc1_2009 lu1_2009  \n",
       "0         U120      C20     U120  \n",
       "1         U120      C20     U361  \n",
       "2         U111      D20     U111  \n",
       "3         U120      E10     U120  \n",
       "4         U111      E20     U111  \n",
       "...        ...      ...      ...  \n",
       "13278     U111      E20     U111  \n",
       "13279     U111      E20     U111  \n",
       "13280     U111      E20     U111  \n",
       "13281     U111      E20     U111  \n",
       "13282     U120      C10     U120  \n",
       "\n",
       "[13283 rows x 11 columns]"
      ]
     },
     "execution_count": 290,
     "metadata": {},
     "output_type": "execute_result"
    }
   ],
   "source": [
    "df[cat_col]"
   ]
  },
  {
   "cell_type": "code",
   "execution_count": 291,
   "id": "070afb51",
   "metadata": {},
   "outputs": [
    {
     "data": {
      "text/plain": [
       "'120'"
      ]
     },
     "execution_count": 291,
     "metadata": {},
     "output_type": "execute_result"
    }
   ],
   "source": [
    "\"C120\"[-3:]"
   ]
  },
  {
   "cell_type": "code",
   "execution_count": 292,
   "id": "cfccc08b",
   "metadata": {},
   "outputs": [
    {
     "data": {
      "text/plain": [
       "array(['C21', 'C22', 'D20', 'E20', 'C10', 'C33', 'B11', 'B22', 'B41',\n",
       "       'B15', 'E30', 'B23', 'B55', 'B16', 'F40', 'B32', 'B13', 'B21',\n",
       "       'A22', 'B43', 'B71', 'A30', 'E10', 'B72', 'C32', 'B31', 'B52',\n",
       "       'B12', 'B53', 'D10', 'C31', 'B73', 'C23', 'H12', 'F30', 'H11',\n",
       "       'B14', 'B54', 'F20', 'B35', 'B51', 'Bx1', 'B75', 'B82', 'B74',\n",
       "       'B19', 'B81', 'B84', 'F10', 'B44', 'B18', 'B45', 'B37', 'B83',\n",
       "       'B42', 'B33', 'B17', 'B77', 'H22', 'B76', 'B34', 'G21', 'B36',\n",
       "       'A21'], dtype=object)"
      ]
     },
     "execution_count": 292,
     "metadata": {},
     "output_type": "execute_result"
    }
   ],
   "source": [
    "df[\"lc1_2018\"].unique()"
   ]
  },
  {
   "cell_type": "code",
   "execution_count": 293,
   "id": "c05d761b",
   "metadata": {
    "scrolled": false
   },
   "outputs": [
    {
     "name": "stdout",
     "output_type": "stream",
     "text": [
      "lc1_2015\n",
      "lc1_2009\n"
     ]
    }
   ],
   "source": [
    "for i in [\"lc1_2015\",\"lc1_2009\"]:\n",
    "    print(i)\n",
    "    df[i]=df[i].apply(lambda x:(ord(x[:1])-64)*100+int(x[1:3]) )"
   ]
  },
  {
   "cell_type": "code",
   "execution_count": 294,
   "id": "443cce8b",
   "metadata": {},
   "outputs": [
    {
     "data": {
      "text/plain": [
       "0        321\n",
       "1        322\n",
       "2        420\n",
       "3        520\n",
       "4        420\n",
       "        ... \n",
       "13278    520\n",
       "13279    520\n",
       "13280    520\n",
       "13281    520\n",
       "13282    310\n",
       "Name: lc1_2015, Length: 13283, dtype: int64"
      ]
     },
     "execution_count": 294,
     "metadata": {},
     "output_type": "execute_result"
    }
   ],
   "source": [
    "df[\"lc1_2015\"]"
   ]
  },
  {
   "cell_type": "code",
   "execution_count": 295,
   "id": "13893895",
   "metadata": {},
   "outputs": [],
   "source": [
    "def replace(x):\n",
    "    try:\n",
    "        return(ord(x[:1])-64)*100+int(x[1:3])\n",
    "    except:\n",
    "        return(ord(x[:1])-64)*100+int(x[2:3])"
   ]
  },
  {
   "cell_type": "code",
   "execution_count": 296,
   "id": "f7e3c21d",
   "metadata": {},
   "outputs": [],
   "source": [
    "def replace_lu(x):\n",
    "    try:\n",
    "        return(ord(x[:1])-64)*1000+int(x[1:3])\n",
    "    except:\n",
    "        return(ord(x[:1])-64)*1000+int(x[2:3])"
   ]
  },
  {
   "cell_type": "code",
   "execution_count": 297,
   "id": "224d46c7",
   "metadata": {},
   "outputs": [],
   "source": [
    "df[\"lc1_2018\"]=df[\"lc1_2018\"].apply(lambda x: replace(x))"
   ]
  },
  {
   "cell_type": "code",
   "execution_count": 298,
   "id": "a67fd1d0",
   "metadata": {},
   "outputs": [
    {
     "name": "stdout",
     "output_type": "stream",
     "text": [
      "lu1_2015\n",
      "lu1_2009\n",
      "lu1_2018\n"
     ]
    }
   ],
   "source": [
    "for i in [\"lu1_2015\",\"lu1_2009\",\"lu1_2018\"]:\n",
    "    print(i)\n",
    "    df[i]=df[i].apply(lambda x: replace_lu(x))"
   ]
  },
  {
   "cell_type": "code",
   "execution_count": 299,
   "id": "7d27897c",
   "metadata": {
    "scrolled": true
   },
   "outputs": [
    {
     "data": {
      "text/html": [
       "<div>\n",
       "<style scoped>\n",
       "    .dataframe tbody tr th:only-of-type {\n",
       "        vertical-align: middle;\n",
       "    }\n",
       "\n",
       "    .dataframe tbody tr th {\n",
       "        vertical-align: top;\n",
       "    }\n",
       "\n",
       "    .dataframe thead th {\n",
       "        text-align: right;\n",
       "    }\n",
       "</style>\n",
       "<table border=\"1\" class=\"dataframe\">\n",
       "  <thead>\n",
       "    <tr style=\"text-align: right;\">\n",
       "      <th></th>\n",
       "      <th>point_id</th>\n",
       "      <th>ph_2015</th>\n",
       "      <th>ec_2015</th>\n",
       "      <th>oc_2015</th>\n",
       "      <th>caco3_2015</th>\n",
       "      <th>p_2015</th>\n",
       "      <th>n_2015</th>\n",
       "      <th>k_2015</th>\n",
       "      <th>elevation_2015</th>\n",
       "      <th>lc1_2015</th>\n",
       "      <th>...</th>\n",
       "      <th>survey_erosion_signs</th>\n",
       "      <th>ph_2009</th>\n",
       "      <th>oc_2009</th>\n",
       "      <th>caco3_2009</th>\n",
       "      <th>p_2009</th>\n",
       "      <th>n_2009</th>\n",
       "      <th>k_2009</th>\n",
       "      <th>elevation_2009</th>\n",
       "      <th>lc1_2009</th>\n",
       "      <th>lu1_2009</th>\n",
       "    </tr>\n",
       "  </thead>\n",
       "  <tbody>\n",
       "    <tr>\n",
       "      <th>0</th>\n",
       "      <td>33883766</td>\n",
       "      <td>3.8</td>\n",
       "      <td>41.50</td>\n",
       "      <td>103.1</td>\n",
       "      <td>0.0</td>\n",
       "      <td>34.7</td>\n",
       "      <td>7.7</td>\n",
       "      <td>69.6</td>\n",
       "      <td>375.0</td>\n",
       "      <td>321</td>\n",
       "      <td>...</td>\n",
       "      <td>NaN</td>\n",
       "      <td>3.92</td>\n",
       "      <td>285.3</td>\n",
       "      <td>0.0</td>\n",
       "      <td>1092.76</td>\n",
       "      <td>14.1</td>\n",
       "      <td>209.3</td>\n",
       "      <td>340.0</td>\n",
       "      <td>320</td>\n",
       "      <td>21012</td>\n",
       "    </tr>\n",
       "    <tr>\n",
       "      <th>1</th>\n",
       "      <td>35363916</td>\n",
       "      <td>3.2</td>\n",
       "      <td>4.21</td>\n",
       "      <td>17.9</td>\n",
       "      <td>0.0</td>\n",
       "      <td>20.8</td>\n",
       "      <td>0.8</td>\n",
       "      <td>7.9</td>\n",
       "      <td>68.0</td>\n",
       "      <td>322</td>\n",
       "      <td>...</td>\n",
       "      <td>NaN</td>\n",
       "      <td>3.01</td>\n",
       "      <td>205.7</td>\n",
       "      <td>0.0</td>\n",
       "      <td>278.45</td>\n",
       "      <td>6.1</td>\n",
       "      <td>246.0</td>\n",
       "      <td>8.0</td>\n",
       "      <td>320</td>\n",
       "      <td>21036</td>\n",
       "    </tr>\n",
       "    <tr>\n",
       "      <th>2</th>\n",
       "      <td>33823392</td>\n",
       "      <td>3.9</td>\n",
       "      <td>43.00</td>\n",
       "      <td>96.3</td>\n",
       "      <td>0.0</td>\n",
       "      <td>31.6</td>\n",
       "      <td>7.8</td>\n",
       "      <td>93.5</td>\n",
       "      <td>243.0</td>\n",
       "      <td>420</td>\n",
       "      <td>...</td>\n",
       "      <td>NaN</td>\n",
       "      <td>4.37</td>\n",
       "      <td>274.7</td>\n",
       "      <td>0.0</td>\n",
       "      <td>570.20</td>\n",
       "      <td>17.3</td>\n",
       "      <td>210.0</td>\n",
       "      <td>179.0</td>\n",
       "      <td>420</td>\n",
       "      <td>21011</td>\n",
       "    </tr>\n",
       "    <tr>\n",
       "      <th>3</th>\n",
       "      <td>33983652</td>\n",
       "      <td>4.0</td>\n",
       "      <td>58.80</td>\n",
       "      <td>368.3</td>\n",
       "      <td>0.0</td>\n",
       "      <td>41.3</td>\n",
       "      <td>24.3</td>\n",
       "      <td>94.1</td>\n",
       "      <td>276.0</td>\n",
       "      <td>520</td>\n",
       "      <td>...</td>\n",
       "      <td>NaN</td>\n",
       "      <td>3.58</td>\n",
       "      <td>405.0</td>\n",
       "      <td>1.0</td>\n",
       "      <td>1264.19</td>\n",
       "      <td>22.8</td>\n",
       "      <td>98.1</td>\n",
       "      <td>222.0</td>\n",
       "      <td>510</td>\n",
       "      <td>21012</td>\n",
       "    </tr>\n",
       "    <tr>\n",
       "      <th>4</th>\n",
       "      <td>35383866</td>\n",
       "      <td>4.0</td>\n",
       "      <td>146.90</td>\n",
       "      <td>128.8</td>\n",
       "      <td>0.0</td>\n",
       "      <td>40.0</td>\n",
       "      <td>9.8</td>\n",
       "      <td>195.8</td>\n",
       "      <td>406.0</td>\n",
       "      <td>420</td>\n",
       "      <td>...</td>\n",
       "      <td>NaN</td>\n",
       "      <td>4.60</td>\n",
       "      <td>288.7</td>\n",
       "      <td>0.0</td>\n",
       "      <td>780.83</td>\n",
       "      <td>14.8</td>\n",
       "      <td>530.6</td>\n",
       "      <td>346.0</td>\n",
       "      <td>520</td>\n",
       "      <td>21011</td>\n",
       "    </tr>\n",
       "    <tr>\n",
       "      <th>...</th>\n",
       "      <td>...</td>\n",
       "      <td>...</td>\n",
       "      <td>...</td>\n",
       "      <td>...</td>\n",
       "      <td>...</td>\n",
       "      <td>...</td>\n",
       "      <td>...</td>\n",
       "      <td>...</td>\n",
       "      <td>...</td>\n",
       "      <td>...</td>\n",
       "      <td>...</td>\n",
       "      <td>...</td>\n",
       "      <td>...</td>\n",
       "      <td>...</td>\n",
       "      <td>...</td>\n",
       "      <td>...</td>\n",
       "      <td>...</td>\n",
       "      <td>...</td>\n",
       "      <td>...</td>\n",
       "      <td>...</td>\n",
       "      <td>...</td>\n",
       "    </tr>\n",
       "    <tr>\n",
       "      <th>13278</th>\n",
       "      <td>45542694</td>\n",
       "      <td>5.0</td>\n",
       "      <td>10.00</td>\n",
       "      <td>16.8</td>\n",
       "      <td>0.0</td>\n",
       "      <td>3.5</td>\n",
       "      <td>2.0</td>\n",
       "      <td>35.7</td>\n",
       "      <td>885.0</td>\n",
       "      <td>520</td>\n",
       "      <td>...</td>\n",
       "      <td>NaN</td>\n",
       "      <td>5.75</td>\n",
       "      <td>36.6</td>\n",
       "      <td>2.0</td>\n",
       "      <td>1017.05</td>\n",
       "      <td>3.7</td>\n",
       "      <td>89.5</td>\n",
       "      <td>879.0</td>\n",
       "      <td>520</td>\n",
       "      <td>21011</td>\n",
       "    </tr>\n",
       "    <tr>\n",
       "      <th>13279</th>\n",
       "      <td>45402772</td>\n",
       "      <td>6.9</td>\n",
       "      <td>81.00</td>\n",
       "      <td>49.9</td>\n",
       "      <td>8.0</td>\n",
       "      <td>49.3</td>\n",
       "      <td>5.6</td>\n",
       "      <td>200.1</td>\n",
       "      <td>477.0</td>\n",
       "      <td>520</td>\n",
       "      <td>...</td>\n",
       "      <td>NaN</td>\n",
       "      <td>6.67</td>\n",
       "      <td>26.3</td>\n",
       "      <td>6.0</td>\n",
       "      <td>826.83</td>\n",
       "      <td>1.4</td>\n",
       "      <td>250.0</td>\n",
       "      <td>430.0</td>\n",
       "      <td>520</td>\n",
       "      <td>21011</td>\n",
       "    </tr>\n",
       "    <tr>\n",
       "      <th>13280</th>\n",
       "      <td>45882618</td>\n",
       "      <td>6.8</td>\n",
       "      <td>65.10</td>\n",
       "      <td>53.9</td>\n",
       "      <td>3.0</td>\n",
       "      <td>16.6</td>\n",
       "      <td>5.9</td>\n",
       "      <td>90.0</td>\n",
       "      <td>630.0</td>\n",
       "      <td>520</td>\n",
       "      <td>...</td>\n",
       "      <td>NaN</td>\n",
       "      <td>6.99</td>\n",
       "      <td>35.6</td>\n",
       "      <td>13.0</td>\n",
       "      <td>1202.65</td>\n",
       "      <td>3.5</td>\n",
       "      <td>58.6</td>\n",
       "      <td>619.0</td>\n",
       "      <td>520</td>\n",
       "      <td>21011</td>\n",
       "    </tr>\n",
       "    <tr>\n",
       "      <th>13281</th>\n",
       "      <td>45342706</td>\n",
       "      <td>6.0</td>\n",
       "      <td>30.70</td>\n",
       "      <td>24.2</td>\n",
       "      <td>0.0</td>\n",
       "      <td>4.6</td>\n",
       "      <td>3.2</td>\n",
       "      <td>32.7</td>\n",
       "      <td>719.0</td>\n",
       "      <td>520</td>\n",
       "      <td>...</td>\n",
       "      <td>NaN</td>\n",
       "      <td>5.66</td>\n",
       "      <td>24.5</td>\n",
       "      <td>1.0</td>\n",
       "      <td>940.35</td>\n",
       "      <td>2.9</td>\n",
       "      <td>41.1</td>\n",
       "      <td>710.0</td>\n",
       "      <td>520</td>\n",
       "      <td>21011</td>\n",
       "    </tr>\n",
       "    <tr>\n",
       "      <th>13282</th>\n",
       "      <td>47742660</td>\n",
       "      <td>4.2</td>\n",
       "      <td>7.30</td>\n",
       "      <td>26.0</td>\n",
       "      <td>0.0</td>\n",
       "      <td>9.6</td>\n",
       "      <td>2.2</td>\n",
       "      <td>162.0</td>\n",
       "      <td>344.0</td>\n",
       "      <td>310</td>\n",
       "      <td>...</td>\n",
       "      <td>NaN</td>\n",
       "      <td>4.18</td>\n",
       "      <td>25.5</td>\n",
       "      <td>0.0</td>\n",
       "      <td>911.54</td>\n",
       "      <td>1.9</td>\n",
       "      <td>146.5</td>\n",
       "      <td>342.0</td>\n",
       "      <td>310</td>\n",
       "      <td>21012</td>\n",
       "    </tr>\n",
       "  </tbody>\n",
       "</table>\n",
       "<p>13283 rows × 33 columns</p>\n",
       "</div>"
      ],
      "text/plain": [
       "       point_id  ph_2015  ec_2015  oc_2015  caco3_2015  p_2015  n_2015  \\\n",
       "0      33883766      3.8    41.50    103.1         0.0    34.7     7.7   \n",
       "1      35363916      3.2     4.21     17.9         0.0    20.8     0.8   \n",
       "2      33823392      3.9    43.00     96.3         0.0    31.6     7.8   \n",
       "3      33983652      4.0    58.80    368.3         0.0    41.3    24.3   \n",
       "4      35383866      4.0   146.90    128.8         0.0    40.0     9.8   \n",
       "...         ...      ...      ...      ...         ...     ...     ...   \n",
       "13278  45542694      5.0    10.00     16.8         0.0     3.5     2.0   \n",
       "13279  45402772      6.9    81.00     49.9         8.0    49.3     5.6   \n",
       "13280  45882618      6.8    65.10     53.9         3.0    16.6     5.9   \n",
       "13281  45342706      6.0    30.70     24.2         0.0     4.6     3.2   \n",
       "13282  47742660      4.2     7.30     26.0         0.0     9.6     2.2   \n",
       "\n",
       "       k_2015  elevation_2015  lc1_2015  ...  survey_erosion_signs  ph_2009  \\\n",
       "0        69.6           375.0       321  ...                   NaN     3.92   \n",
       "1         7.9            68.0       322  ...                   NaN     3.01   \n",
       "2        93.5           243.0       420  ...                   NaN     4.37   \n",
       "3        94.1           276.0       520  ...                   NaN     3.58   \n",
       "4       195.8           406.0       420  ...                   NaN     4.60   \n",
       "...       ...             ...       ...  ...                   ...      ...   \n",
       "13278    35.7           885.0       520  ...                   NaN     5.75   \n",
       "13279   200.1           477.0       520  ...                   NaN     6.67   \n",
       "13280    90.0           630.0       520  ...                   NaN     6.99   \n",
       "13281    32.7           719.0       520  ...                   NaN     5.66   \n",
       "13282   162.0           344.0       310  ...                   NaN     4.18   \n",
       "\n",
       "       oc_2009 caco3_2009   p_2009 n_2009 k_2009 elevation_2009  lc1_2009  \\\n",
       "0        285.3        0.0  1092.76   14.1  209.3          340.0       320   \n",
       "1        205.7        0.0   278.45    6.1  246.0            8.0       320   \n",
       "2        274.7        0.0   570.20   17.3  210.0          179.0       420   \n",
       "3        405.0        1.0  1264.19   22.8   98.1          222.0       510   \n",
       "4        288.7        0.0   780.83   14.8  530.6          346.0       520   \n",
       "...        ...        ...      ...    ...    ...            ...       ...   \n",
       "13278     36.6        2.0  1017.05    3.7   89.5          879.0       520   \n",
       "13279     26.3        6.0   826.83    1.4  250.0          430.0       520   \n",
       "13280     35.6       13.0  1202.65    3.5   58.6          619.0       520   \n",
       "13281     24.5        1.0   940.35    2.9   41.1          710.0       520   \n",
       "13282     25.5        0.0   911.54    1.9  146.5          342.0       310   \n",
       "\n",
       "       lu1_2009  \n",
       "0         21012  \n",
       "1         21036  \n",
       "2         21011  \n",
       "3         21012  \n",
       "4         21011  \n",
       "...         ...  \n",
       "13278     21011  \n",
       "13279     21011  \n",
       "13280     21011  \n",
       "13281     21011  \n",
       "13282     21012  \n",
       "\n",
       "[13283 rows x 33 columns]"
      ]
     },
     "execution_count": 299,
     "metadata": {},
     "output_type": "execute_result"
    }
   ],
   "source": [
    "df"
   ]
  },
  {
   "cell_type": "code",
   "execution_count": 300,
   "id": "43f2cb3a",
   "metadata": {},
   "outputs": [
    {
     "data": {
      "text/plain": [
       "<bound method Series.unique of 0           15\n",
       "1           13\n",
       "2         29.9\n",
       "3         51.3\n",
       "4         17.8\n",
       "         ...  \n",
       "13278     19.7\n",
       "13279       24\n",
       "13280       10\n",
       "13281    < LOD\n",
       "13282     13.9\n",
       "Name: p_2018, Length: 13283, dtype: object>"
      ]
     },
     "execution_count": 300,
     "metadata": {},
     "output_type": "execute_result"
    }
   ],
   "source": [
    "df[\"p_2018\"].unique"
   ]
  },
  {
   "cell_type": "code",
   "execution_count": 301,
   "id": "3013a24b",
   "metadata": {
    "scrolled": false
   },
   "outputs": [
    {
     "data": {
      "text/plain": [
       "2.6"
      ]
     },
     "execution_count": 301,
     "metadata": {},
     "output_type": "execute_result"
    }
   ],
   "source": [
    "df[\"ph_2015\"].replace(\"< LOD\",1).min()"
   ]
  },
  {
   "cell_type": "code",
   "execution_count": 302,
   "id": "787e1aae",
   "metadata": {},
   "outputs": [
    {
     "data": {
      "text/html": [
       "<div>\n",
       "<style scoped>\n",
       "    .dataframe tbody tr th:only-of-type {\n",
       "        vertical-align: middle;\n",
       "    }\n",
       "\n",
       "    .dataframe tbody tr th {\n",
       "        vertical-align: top;\n",
       "    }\n",
       "\n",
       "    .dataframe thead th {\n",
       "        text-align: right;\n",
       "    }\n",
       "</style>\n",
       "<table border=\"1\" class=\"dataframe\">\n",
       "  <thead>\n",
       "    <tr style=\"text-align: right;\">\n",
       "      <th></th>\n",
       "      <th>lc1_2015</th>\n",
       "      <th>lu1_2015</th>\n",
       "      <th>oc_2018</th>\n",
       "      <th>caco3_2018</th>\n",
       "      <th>p_2018</th>\n",
       "      <th>n_2018</th>\n",
       "      <th>k_2018</th>\n",
       "      <th>lc1_2018</th>\n",
       "      <th>lu1_2018</th>\n",
       "      <th>lc1_2009</th>\n",
       "      <th>lu1_2009</th>\n",
       "    </tr>\n",
       "  </thead>\n",
       "  <tbody>\n",
       "    <tr>\n",
       "      <th>0</th>\n",
       "      <td>321</td>\n",
       "      <td>21012</td>\n",
       "      <td>66.1</td>\n",
       "      <td>94.020382</td>\n",
       "      <td>15</td>\n",
       "      <td>4.6</td>\n",
       "      <td>99.8</td>\n",
       "      <td>321</td>\n",
       "      <td>21012</td>\n",
       "      <td>320</td>\n",
       "      <td>21012</td>\n",
       "    </tr>\n",
       "    <tr>\n",
       "      <th>1</th>\n",
       "      <td>322</td>\n",
       "      <td>21012</td>\n",
       "      <td>64</td>\n",
       "      <td>94.020382</td>\n",
       "      <td>13</td>\n",
       "      <td>2.6</td>\n",
       "      <td>44</td>\n",
       "      <td>322</td>\n",
       "      <td>21012</td>\n",
       "      <td>320</td>\n",
       "      <td>21036</td>\n",
       "    </tr>\n",
       "    <tr>\n",
       "      <th>2</th>\n",
       "      <td>420</td>\n",
       "      <td>21042</td>\n",
       "      <td>102.1</td>\n",
       "      <td>94.020382</td>\n",
       "      <td>29.9</td>\n",
       "      <td>8.1</td>\n",
       "      <td>238.7</td>\n",
       "      <td>420</td>\n",
       "      <td>21011</td>\n",
       "      <td>420</td>\n",
       "      <td>21011</td>\n",
       "    </tr>\n",
       "    <tr>\n",
       "      <th>3</th>\n",
       "      <td>520</td>\n",
       "      <td>21012</td>\n",
       "      <td>340.5</td>\n",
       "      <td>94.020382</td>\n",
       "      <td>51.3</td>\n",
       "      <td>28</td>\n",
       "      <td>128.5</td>\n",
       "      <td>520</td>\n",
       "      <td>21012</td>\n",
       "      <td>510</td>\n",
       "      <td>21012</td>\n",
       "    </tr>\n",
       "    <tr>\n",
       "      <th>4</th>\n",
       "      <td>420</td>\n",
       "      <td>21011</td>\n",
       "      <td>147.2</td>\n",
       "      <td>94.020382</td>\n",
       "      <td>17.8</td>\n",
       "      <td>9.3</td>\n",
       "      <td>240.2</td>\n",
       "      <td>420</td>\n",
       "      <td>21011</td>\n",
       "      <td>520</td>\n",
       "      <td>21011</td>\n",
       "    </tr>\n",
       "    <tr>\n",
       "      <th>...</th>\n",
       "      <td>...</td>\n",
       "      <td>...</td>\n",
       "      <td>...</td>\n",
       "      <td>...</td>\n",
       "      <td>...</td>\n",
       "      <td>...</td>\n",
       "      <td>...</td>\n",
       "      <td>...</td>\n",
       "      <td>...</td>\n",
       "      <td>...</td>\n",
       "      <td>...</td>\n",
       "    </tr>\n",
       "    <tr>\n",
       "      <th>13278</th>\n",
       "      <td>520</td>\n",
       "      <td>21011</td>\n",
       "      <td>36.2</td>\n",
       "      <td>94.020382</td>\n",
       "      <td>19.7</td>\n",
       "      <td>4.6</td>\n",
       "      <td>141.4</td>\n",
       "      <td>520</td>\n",
       "      <td>21011</td>\n",
       "      <td>520</td>\n",
       "      <td>21011</td>\n",
       "    </tr>\n",
       "    <tr>\n",
       "      <th>13279</th>\n",
       "      <td>520</td>\n",
       "      <td>21011</td>\n",
       "      <td>62</td>\n",
       "      <td>11</td>\n",
       "      <td>24</td>\n",
       "      <td>7.1</td>\n",
       "      <td>146.1</td>\n",
       "      <td>520</td>\n",
       "      <td>21011</td>\n",
       "      <td>520</td>\n",
       "      <td>21011</td>\n",
       "    </tr>\n",
       "    <tr>\n",
       "      <th>13280</th>\n",
       "      <td>520</td>\n",
       "      <td>21011</td>\n",
       "      <td>52.3</td>\n",
       "      <td>5</td>\n",
       "      <td>10</td>\n",
       "      <td>5.6</td>\n",
       "      <td>96.8</td>\n",
       "      <td>520</td>\n",
       "      <td>21011</td>\n",
       "      <td>520</td>\n",
       "      <td>21011</td>\n",
       "    </tr>\n",
       "    <tr>\n",
       "      <th>13281</th>\n",
       "      <td>520</td>\n",
       "      <td>21011</td>\n",
       "      <td>27.1</td>\n",
       "      <td>94.020382</td>\n",
       "      <td>&lt; LOD</td>\n",
       "      <td>3.4</td>\n",
       "      <td>45.7</td>\n",
       "      <td>520</td>\n",
       "      <td>21011</td>\n",
       "      <td>520</td>\n",
       "      <td>21011</td>\n",
       "    </tr>\n",
       "    <tr>\n",
       "      <th>13282</th>\n",
       "      <td>310</td>\n",
       "      <td>21012</td>\n",
       "      <td>23.1</td>\n",
       "      <td>94.020382</td>\n",
       "      <td>13.9</td>\n",
       "      <td>2.1</td>\n",
       "      <td>185.8</td>\n",
       "      <td>310</td>\n",
       "      <td>21012</td>\n",
       "      <td>310</td>\n",
       "      <td>21012</td>\n",
       "    </tr>\n",
       "  </tbody>\n",
       "</table>\n",
       "<p>13283 rows × 11 columns</p>\n",
       "</div>"
      ],
      "text/plain": [
       "       lc1_2015  lu1_2015 oc_2018 caco3_2018 p_2018 n_2018 k_2018  lc1_2018  \\\n",
       "0           321     21012    66.1  94.020382     15    4.6   99.8       321   \n",
       "1           322     21012      64  94.020382     13    2.6     44       322   \n",
       "2           420     21042   102.1  94.020382   29.9    8.1  238.7       420   \n",
       "3           520     21012   340.5  94.020382   51.3     28  128.5       520   \n",
       "4           420     21011   147.2  94.020382   17.8    9.3  240.2       420   \n",
       "...         ...       ...     ...        ...    ...    ...    ...       ...   \n",
       "13278       520     21011    36.2  94.020382   19.7    4.6  141.4       520   \n",
       "13279       520     21011      62         11     24    7.1  146.1       520   \n",
       "13280       520     21011    52.3          5     10    5.6   96.8       520   \n",
       "13281       520     21011    27.1  94.020382  < LOD    3.4   45.7       520   \n",
       "13282       310     21012    23.1  94.020382   13.9    2.1  185.8       310   \n",
       "\n",
       "       lu1_2018  lc1_2009  lu1_2009  \n",
       "0         21012       320     21012  \n",
       "1         21012       320     21036  \n",
       "2         21011       420     21011  \n",
       "3         21012       510     21012  \n",
       "4         21011       520     21011  \n",
       "...         ...       ...       ...  \n",
       "13278     21011       520     21011  \n",
       "13279     21011       520     21011  \n",
       "13280     21011       520     21011  \n",
       "13281     21011       520     21011  \n",
       "13282     21012       310     21012  \n",
       "\n",
       "[13283 rows x 11 columns]"
      ]
     },
     "execution_count": 302,
     "metadata": {},
     "output_type": "execute_result"
    }
   ],
   "source": [
    "df[cat_col]"
   ]
  },
  {
   "cell_type": "code",
   "execution_count": 303,
   "id": "7b393d06",
   "metadata": {},
   "outputs": [
    {
     "data": {
      "text/plain": [
       "['point_id',\n",
       " 'ph_2015',\n",
       " 'ec_2015',\n",
       " 'oc_2015',\n",
       " 'caco3_2015',\n",
       " 'p_2015',\n",
       " 'n_2015',\n",
       " 'k_2015',\n",
       " 'elevation_2015',\n",
       " 'ph_2018',\n",
       " 'ec_2018',\n",
       " 'elevation_2018',\n",
       " 'bd_0_10',\n",
       " 'bd_10_20',\n",
       " 'survey_erosion_signs',\n",
       " 'ph_2009',\n",
       " 'oc_2009',\n",
       " 'caco3_2009',\n",
       " 'p_2009',\n",
       " 'n_2009',\n",
       " 'k_2009',\n",
       " 'elevation_2009']"
      ]
     },
     "execution_count": 303,
     "metadata": {},
     "output_type": "execute_result"
    }
   ],
   "source": [
    "num_col"
   ]
  },
  {
   "cell_type": "code",
   "execution_count": 304,
   "id": "b474098e",
   "metadata": {
    "scrolled": true
   },
   "outputs": [],
   "source": [
    "for i in [\"oc_2018\",\"caco3_2018\",\"p_2018\",\"n_2018\",\"k_2018\"]:\n",
    "    num_col.append(i)"
   ]
  },
  {
   "cell_type": "code",
   "execution_count": 305,
   "id": "00a382a0",
   "metadata": {},
   "outputs": [
    {
     "data": {
      "text/plain": [
       "point_id                13283\n",
       "ph_2015                    61\n",
       "ec_2015                  2751\n",
       "oc_2015                  1761\n",
       "caco3_2015                666\n",
       "p_2015                   1276\n",
       "n_2015                    292\n",
       "k_2015                   4428\n",
       "elevation_2015           1051\n",
       "lc1_2015                   62\n",
       "lu1_2015                   19\n",
       "ph_2018                    60\n",
       "ec_2018                  3416\n",
       "oc_2018                  1866\n",
       "caco3_2018                665\n",
       "p_2018                   1156\n",
       "n_2018                    293\n",
       "k_2018                   4578\n",
       "elevation_2018           1310\n",
       "lc1_2018                   64\n",
       "lu1_2018                   24\n",
       "bd_0_10                  1456\n",
       "bd_10_20                 1365\n",
       "survey_erosion_signs        1\n",
       "ph_2009                   529\n",
       "oc_2009                  1769\n",
       "caco3_2009                667\n",
       "p_2009                  12378\n",
       "n_2009                    565\n",
       "k_2009                   4575\n",
       "elevation_2009           1040\n",
       "lc1_2009                   59\n",
       "lu1_2009                   22\n",
       "dtype: int64"
      ]
     },
     "execution_count": 305,
     "metadata": {},
     "output_type": "execute_result"
    }
   ],
   "source": [
    "no_df.nunique()"
   ]
  },
  {
   "cell_type": "code",
   "execution_count": 306,
   "id": "7ba2af43",
   "metadata": {},
   "outputs": [
    {
     "data": {
      "text/plain": [
       "['point_id',\n",
       " 'ph_2015',\n",
       " 'ec_2015',\n",
       " 'oc_2015',\n",
       " 'caco3_2015',\n",
       " 'p_2015',\n",
       " 'n_2015',\n",
       " 'k_2015',\n",
       " 'elevation_2015',\n",
       " 'ph_2018',\n",
       " 'ec_2018',\n",
       " 'elevation_2018',\n",
       " 'bd_0_10',\n",
       " 'bd_10_20',\n",
       " 'survey_erosion_signs',\n",
       " 'ph_2009',\n",
       " 'oc_2009',\n",
       " 'caco3_2009',\n",
       " 'p_2009',\n",
       " 'n_2009',\n",
       " 'k_2009',\n",
       " 'elevation_2009',\n",
       " 'oc_2018',\n",
       " 'caco3_2018',\n",
       " 'p_2018',\n",
       " 'n_2018',\n",
       " 'k_2018']"
      ]
     },
     "execution_count": 306,
     "metadata": {},
     "output_type": "execute_result"
    }
   ],
   "source": [
    "num_col"
   ]
  },
  {
   "cell_type": "code",
   "execution_count": 308,
   "id": "6f370fb6",
   "metadata": {
    "scrolled": true
   },
   "outputs": [
    {
     "name": "stderr",
     "output_type": "stream",
     "text": [
      "C:\\Users\\vibu\\AppData\\Local\\Temp\\ipykernel_9252\\2741629522.py:6: SettingWithCopyWarning: \n",
      "A value is trying to be set on a copy of a slice from a DataFrame\n",
      "\n",
      "See the caveats in the documentation: https://pandas.pydata.org/pandas-docs/stable/user_guide/indexing.html#returning-a-view-versus-a-copy\n",
      "  df[i][(df[i] == \"< LOD\") | (df[i] == \"<  LOD\") | (df[i] == \"<0.0\")] = 0.01\n"
     ]
    }
   ],
   "source": [
    "for i in num_col:\n",
    "    #no_df=df[i].dropna().apply(lambda x: convert_to_number(x))\n",
    "    #no_df=no_df.replace(\"< LOD\",1000)\n",
    "    #no_df=no_df.replace(\"<  LOD\",1000)\n",
    "    #no_df=no_df.replace(\"<0.0\",1000)\n",
    "    df[i][(df[i] == \"< LOD\") | (df[i] == \"<  LOD\") | (df[i] == \"<0.0\")] = 0.01\n",
    "\n",
    "    \n",
    "    df[i]=df[i].apply(lambda x: convert_to_number(x))"
   ]
  },
  {
   "cell_type": "code",
   "execution_count": 309,
   "id": "30665fe0",
   "metadata": {
    "scrolled": true
   },
   "outputs": [
    {
     "data": {
      "text/plain": [
       "0        15.00\n",
       "1        13.00\n",
       "2        29.90\n",
       "3        51.30\n",
       "4        17.80\n",
       "         ...  \n",
       "13278    19.70\n",
       "13279    24.00\n",
       "13280    10.00\n",
       "13281     0.01\n",
       "13282    13.90\n",
       "Name: p_2018, Length: 13283, dtype: float64"
      ]
     },
     "execution_count": 309,
     "metadata": {},
     "output_type": "execute_result"
    }
   ],
   "source": [
    "df[\"p_2018\"]"
   ]
  },
  {
   "cell_type": "code",
   "execution_count": 316,
   "id": "acdc7004",
   "metadata": {},
   "outputs": [
    {
     "data": {
      "text/plain": [
       "1.0    456\n",
       "Name: survey_erosion_signs, dtype: int64"
      ]
     },
     "execution_count": 316,
     "metadata": {},
     "output_type": "execute_result"
    }
   ],
   "source": [
    "df[\"survey_erosion_signs\"].value_counts()"
   ]
  },
  {
   "cell_type": "code",
   "execution_count": null,
   "id": "340fd4e3",
   "metadata": {},
   "outputs": [],
   "source": []
  },
  {
   "cell_type": "code",
   "execution_count": null,
   "id": "494a5975",
   "metadata": {},
   "outputs": [],
   "source": []
  },
  {
   "cell_type": "code",
   "execution_count": null,
   "id": "aed98c0c",
   "metadata": {},
   "outputs": [],
   "source": []
  }
 ],
 "metadata": {
  "kernelspec": {
   "display_name": "Python 3 (ipykernel)",
   "language": "python",
   "name": "python3"
  },
  "language_info": {
   "codemirror_mode": {
    "name": "ipython",
    "version": 3
   },
   "file_extension": ".py",
   "mimetype": "text/x-python",
   "name": "python",
   "nbconvert_exporter": "python",
   "pygments_lexer": "ipython3",
   "version": "3.9.8"
  }
 },
 "nbformat": 4,
 "nbformat_minor": 5
}
